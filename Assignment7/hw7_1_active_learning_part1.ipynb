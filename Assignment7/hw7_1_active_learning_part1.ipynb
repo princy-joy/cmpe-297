{
  "nbformat": 4,
  "nbformat_minor": 0,
  "metadata": {
    "kernelspec": {
      "display_name": "linking",
      "language": "python",
      "name": "linking"
    },
    "language_info": {
      "codemirror_mode": {
        "name": "ipython",
        "version": 3
      },
      "file_extension": ".py",
      "mimetype": "text/x-python",
      "name": "python",
      "nbconvert_exporter": "python",
      "pygments_lexer": "ipython3",
      "version": "3.8.6"
    },
    "colab": {
      "name": "hw7_1 - active-learning_part1.ipynb",
      "provenance": [],
      "collapsed_sections": [
        "zP2nAPvXFsSp",
        "Ux_oxSy5FsSp",
        "yWDF8o4HFsSq",
        "rjPQC94cFsSr",
        "SU8InuiVFsSs"
      ]
    },
    "accelerator": "GPU"
  },
  "cells": [
    {
      "cell_type": "markdown",
      "metadata": {
        "id": "krEcNxY1FsSR"
      },
      "source": [
        "# Active Learning"
      ]
    },
    {
      "cell_type": "code",
      "metadata": {
        "colab": {
          "base_uri": "https://localhost:8080/",
          "height": 346
        },
        "id": "dnPzwGPvHP2R",
        "outputId": "a8229a0f-a10f-49cb-b98f-70c53b60f211"
      },
      "source": [
        "!pip install dedupe -q\n",
        "!pip install -U numpy\n"
      ],
      "execution_count": null,
      "outputs": [
        {
          "output_type": "stream",
          "name": "stdout",
          "text": [
            "Requirement already satisfied: numpy in /usr/local/lib/python3.7/dist-packages (1.19.5)\n",
            "Collecting numpy\n",
            "  Downloading numpy-1.21.4-cp37-cp37m-manylinux_2_12_x86_64.manylinux2010_x86_64.whl (15.7 MB)\n",
            "\u001b[K     |████████████████████████████████| 15.7 MB 5.4 MB/s \n",
            "\u001b[?25hInstalling collected packages: numpy\n",
            "  Attempting uninstall: numpy\n",
            "    Found existing installation: numpy 1.19.5\n",
            "    Uninstalling numpy-1.19.5:\n",
            "      Successfully uninstalled numpy-1.19.5\n",
            "\u001b[31mERROR: pip's dependency resolver does not currently take into account all the packages that are installed. This behaviour is the source of the following dependency conflicts.\n",
            "yellowbrick 1.3.post1 requires numpy<1.20,>=1.16.0, but you have numpy 1.21.4 which is incompatible.\n",
            "datascience 0.10.6 requires folium==0.2.1, but you have folium 0.8.3 which is incompatible.\n",
            "albumentations 0.1.12 requires imgaug<0.2.7,>=0.2.5, but you have imgaug 0.2.9 which is incompatible.\u001b[0m\n",
            "Successfully installed numpy-1.21.4\n"
          ]
        },
        {
          "output_type": "display_data",
          "data": {
            "application/vnd.colab-display-data+json": {
              "pip_warning": {
                "packages": [
                  "numpy"
                ]
              }
            }
          },
          "metadata": {}
        }
      ]
    },
    {
      "cell_type": "code",
      "metadata": {
        "id": "J3yMOQhdFsSY"
      },
      "source": [
        "# Check if we're running locally, or in Google Colab.\n",
        "try:\n",
        "    import google.colab\n",
        "    COLAB = True\n",
        "except ModuleNotFoundError:\n",
        "    COLAB = False\n",
        "    \n",
        "# If we're running in Colab, download the tutorial functions file \n",
        "# to the Colab session local directory, and install required libraries.\n",
        "if COLAB:\n",
        "    import requests\n",
        "    \n",
        "    tutorial_functions_url = \"https://raw.githubusercontent.com/rachhouse/intro-to-data-linking/main/tutorial_notebooks/linking_tutorial_functions.py\"\n",
        "    r = requests.get(tutorial_functions_url)\n",
        "    \n",
        "    with open(\"linking_tutorial_functions.py\", \"w\") as fh:\n",
        "        fh.write(r.text)\n",
        "    \n",
        "    !pip install -q altair dedupe dedupe-variable-name jellyfish recordlinkage "
      ],
      "execution_count": null,
      "outputs": []
    },
    {
      "cell_type": "code",
      "metadata": {
        "id": "acSSI9GwFsSa",
        "colab": {
          "base_uri": "https://localhost:8080/"
        },
        "outputId": "7588557c-f0b2-460a-8c76-f80ea7e0c7df"
      },
      "source": [
        "import datetime\n",
        "import itertools\n",
        "import os\n",
        "import pathlib\n",
        "import re\n",
        "from typing import Any, Dict, Optional\n",
        "\n",
        "import dedupe\n",
        "import pandas as pd\n",
        "\n",
        "import linking_tutorial_functions as tutorial"
      ],
      "execution_count": null,
      "outputs": [
        {
          "output_type": "stream",
          "name": "stderr",
          "text": [
            "INFO:root:Generating grammar tables from /usr/lib/python3.7/lib2to3/Grammar.txt\n",
            "INFO:root:Generating grammar tables from /usr/lib/python3.7/lib2to3/PatternGrammar.txt\n"
          ]
        }
      ]
    },
    {
      "cell_type": "markdown",
      "metadata": {
        "id": "NAtYrh-_FsSb"
      },
      "source": [
        "## Define Working Filepaths"
      ]
    },
    {
      "cell_type": "markdown",
      "metadata": {
        "id": "TbBLjl6SFsSc"
      },
      "source": [
        "For convenience, we'll define a `pathlib.Path` to reference our current working directory."
      ]
    },
    {
      "cell_type": "code",
      "metadata": {
        "id": "vcA25uvRFsSc",
        "colab": {
          "base_uri": "https://localhost:8080/"
        },
        "outputId": "1320504e-7676-4a2e-a5fa-632fdfaebfc4"
      },
      "source": [
        "WORKING_DIR = pathlib.Path(os.path.abspath(''))\n",
        "WORKING_DIR"
      ],
      "execution_count": null,
      "outputs": [
        {
          "output_type": "execute_result",
          "data": {
            "text/plain": [
              "PosixPath('/content')"
            ]
          },
          "metadata": {},
          "execution_count": 3
        }
      ]
    },
    {
      "cell_type": "markdown",
      "metadata": {
        "id": "tQKOVbWEFsSd"
      },
      "source": [
        "## Load Training Dataset and Ground Truth Labels"
      ]
    },
    {
      "cell_type": "code",
      "metadata": {
        "id": "tzH_czFZFsSd"
      },
      "source": [
        "df_A, df_B, df_ground_truth = tutorial.load_febrl_training_data(COLAB)"
      ],
      "execution_count": null,
      "outputs": []
    },
    {
      "cell_type": "markdown",
      "metadata": {
        "id": "HqRYHRmvFsSe"
      },
      "source": [
        "Let's take a quick look at our training dataset to refresh on the columns, formats, and data."
      ]
    },
    {
      "cell_type": "code",
      "metadata": {
        "id": "Xssn7jwTFsSe",
        "colab": {
          "base_uri": "https://localhost:8080/",
          "height": 237
        },
        "outputId": "91c15789-a3de-4b48-edc0-5c3390186aac"
      },
      "source": [
        "df_A.head()"
      ],
      "execution_count": null,
      "outputs": [
        {
          "output_type": "execute_result",
          "data": {
            "text/html": [
              "<div>\n",
              "<style scoped>\n",
              "    .dataframe tbody tr th:only-of-type {\n",
              "        vertical-align: middle;\n",
              "    }\n",
              "\n",
              "    .dataframe tbody tr th {\n",
              "        vertical-align: top;\n",
              "    }\n",
              "\n",
              "    .dataframe thead th {\n",
              "        text-align: right;\n",
              "    }\n",
              "</style>\n",
              "<table border=\"1\" class=\"dataframe\">\n",
              "  <thead>\n",
              "    <tr style=\"text-align: right;\">\n",
              "      <th></th>\n",
              "      <th>first_name</th>\n",
              "      <th>surname</th>\n",
              "      <th>street_number</th>\n",
              "      <th>address_1</th>\n",
              "      <th>address_2</th>\n",
              "      <th>suburb</th>\n",
              "      <th>postcode</th>\n",
              "      <th>state</th>\n",
              "      <th>date_of_birth</th>\n",
              "      <th>age</th>\n",
              "      <th>phone_number</th>\n",
              "      <th>soc_sec_id</th>\n",
              "    </tr>\n",
              "    <tr>\n",
              "      <th>person_id_A</th>\n",
              "      <th></th>\n",
              "      <th></th>\n",
              "      <th></th>\n",
              "      <th></th>\n",
              "      <th></th>\n",
              "      <th></th>\n",
              "      <th></th>\n",
              "      <th></th>\n",
              "      <th></th>\n",
              "      <th></th>\n",
              "      <th></th>\n",
              "      <th></th>\n",
              "    </tr>\n",
              "  </thead>\n",
              "  <tbody>\n",
              "    <tr>\n",
              "      <th>fbc4143d-15f9-4f27-b5f0-dedbadce6616</th>\n",
              "      <td>matilda</td>\n",
              "      <td>struck</td>\n",
              "      <td>8</td>\n",
              "      <td>ballard place</td>\n",
              "      <td></td>\n",
              "      <td>west perth</td>\n",
              "      <td>2470</td>\n",
              "      <td>qld</td>\n",
              "      <td>19611002</td>\n",
              "      <td>32</td>\n",
              "      <td>03 05903135</td>\n",
              "      <td>8276847</td>\n",
              "    </tr>\n",
              "    <tr>\n",
              "      <th>48a56cad-7ba6-45e1-97cd-517ba65bdab5</th>\n",
              "      <td>lachlan</td>\n",
              "      <td>eglinton</td>\n",
              "      <td>36</td>\n",
              "      <td>kambalda crescent</td>\n",
              "      <td>villa 427</td>\n",
              "      <td>auburn</td>\n",
              "      <td>5109</td>\n",
              "      <td></td>\n",
              "      <td>19260108</td>\n",
              "      <td>27</td>\n",
              "      <td></td>\n",
              "      <td>9937958</td>\n",
              "    </tr>\n",
              "    <tr>\n",
              "      <th>b1792d21-e4be-4b86-8dea-454ffa5194c5</th>\n",
              "      <td>mikayla</td>\n",
              "      <td>asher</td>\n",
              "      <td>588</td>\n",
              "      <td>britten-jones drive</td>\n",
              "      <td></td>\n",
              "      <td>miami</td>\n",
              "      <td>4218</td>\n",
              "      <td>nsw</td>\n",
              "      <td>19251102</td>\n",
              "      <td>32</td>\n",
              "      <td>03 33770501</td>\n",
              "      <td>7017310</td>\n",
              "    </tr>\n",
              "    <tr>\n",
              "      <th>96653d73-bebc-4459-94f3-c3f0a8c514d4</th>\n",
              "      <td>grace</td>\n",
              "      <td>bristow</td>\n",
              "      <td>7</td>\n",
              "      <td></td>\n",
              "      <td>wandella park snowy</td>\n",
              "      <td>cardiff</td>\n",
              "      <td>6163</td>\n",
              "      <td>nsw</td>\n",
              "      <td>19400120</td>\n",
              "      <td></td>\n",
              "      <td>07 37864073</td>\n",
              "      <td>3535974</td>\n",
              "    </tr>\n",
              "    <tr>\n",
              "      <th>41f038b8-77c0-45a5-9e1f-e62b8637ffd1</th>\n",
              "      <td>wilson</td>\n",
              "      <td>bishop</td>\n",
              "      <td>11</td>\n",
              "      <td>chisholm street</td>\n",
              "      <td></td>\n",
              "      <td>bronte</td>\n",
              "      <td>2490</td>\n",
              "      <td>nsw</td>\n",
              "      <td>19210305</td>\n",
              "      <td>27</td>\n",
              "      <td>04 15209769</td>\n",
              "      <td>5573522</td>\n",
              "    </tr>\n",
              "  </tbody>\n",
              "</table>\n",
              "</div>"
            ],
            "text/plain": [
              "                                     first_name  ... soc_sec_id\n",
              "person_id_A                                      ...           \n",
              "fbc4143d-15f9-4f27-b5f0-dedbadce6616    matilda  ...    8276847\n",
              "48a56cad-7ba6-45e1-97cd-517ba65bdab5    lachlan  ...    9937958\n",
              "b1792d21-e4be-4b86-8dea-454ffa5194c5    mikayla  ...    7017310\n",
              "96653d73-bebc-4459-94f3-c3f0a8c514d4      grace  ...    3535974\n",
              "41f038b8-77c0-45a5-9e1f-e62b8637ffd1     wilson  ...    5573522\n",
              "\n",
              "[5 rows x 12 columns]"
            ]
          },
          "metadata": {},
          "execution_count": 5
        }
      ]
    },
    {
      "cell_type": "markdown",
      "metadata": {
        "id": "SY63wmpLFsSf"
      },
      "source": [
        "## Data Augmentation"
      ]
    },
    {
      "cell_type": "markdown",
      "metadata": {
        "id": "XS1ve0EvFsSg"
      },
      "source": [
        "We'll do minimal data augmentation before feeding our training data to `dedupe`; we just want to format the date of birth data as `mm/dd/yy`, and ensure all columns are in string format and stripped of trailing/leading whitespace. Additionally, `dedupe` requires input data to be in dictionaries, using the record id as the key and the record metadata as the value. So, we'll convert our dataframes to this format."
      ]
    },
    {
      "cell_type": "code",
      "metadata": {
        "id": "ijYBJMPeFsSg"
      },
      "source": [
        "def format_dob(dob: str) -> Optional[str]:\n",
        "    \"\"\" Transform date of birth format from YYYYMMDD to mm/dd/yy.\n",
        "        If DOB cannot be transformed, return None.\n",
        "    \"\"\"\n",
        "    try:\n",
        "        if re.match(r\"\\d{8}\", dob):\n",
        "            return (datetime.datetime.strptime(dob, \"%Y%m%d\")).strftime(\"%m/%d/%y\")\n",
        "    except:\n",
        "        pass\n",
        "\n",
        "    return None\n",
        "\n",
        "def strip_and_null(x: Any) -> Optional[str]:\n",
        "    \"\"\" Stringify incoming variable, remove trailing/leading whitespace\n",
        "        and return resulting string. Return None if resulting string is empty.\n",
        "    \"\"\"\n",
        "    x = str(x).strip()\n",
        "    \n",
        "    if x == \"\":\n",
        "        return None\n",
        "    else:\n",
        "        return x\n",
        "    \n",
        "def convert_df_to_dict(df: pd.DataFrame) -> Dict[str, Dict]:\n",
        "    \"\"\" Convert pandas DataFrame to dict keyed by record id.\n",
        "        Convert all fields to strings or Nones to satisfy dedupe.\n",
        "        Transform date format of date_of_birth field.\n",
        "    \"\"\"    \n",
        "\n",
        "    for col in df.columns:\n",
        "        df[col] = df[col].apply(lambda x: strip_and_null(x))\n",
        "\n",
        "    df[\"date_of_birth\"] = df[\"date_of_birth\"].apply(lambda x: format_dob(x))    \n",
        "\n",
        "    return df.to_dict(\"index\")"
      ],
      "execution_count": null,
      "outputs": []
    },
    {
      "cell_type": "code",
      "metadata": {
        "id": "ZgUzORoiFsSh"
      },
      "source": [
        "records_A = convert_df_to_dict(df_A)\n",
        "records_B = convert_df_to_dict(df_B)"
      ],
      "execution_count": null,
      "outputs": []
    },
    {
      "cell_type": "markdown",
      "metadata": {
        "id": "xGuQRGvQFsSi"
      },
      "source": [
        "We can examine a small sample of the resulting transformed records:"
      ]
    },
    {
      "cell_type": "code",
      "metadata": {
        "id": "ObdU4Kg_FsSi",
        "colab": {
          "base_uri": "https://localhost:8080/"
        },
        "outputId": "16fb801d-3533-4f0c-cd78-d9c66bd3eaca"
      },
      "source": [
        "[records_A[k] for k in list(records_A.keys())[0:2]]"
      ],
      "execution_count": null,
      "outputs": [
        {
          "output_type": "execute_result",
          "data": {
            "text/plain": [
              "[{'address_1': 'ballard place',\n",
              "  'address_2': None,\n",
              "  'age': '32',\n",
              "  'date_of_birth': '10/02/61',\n",
              "  'first_name': 'matilda',\n",
              "  'phone_number': '03 05903135',\n",
              "  'postcode': '2470',\n",
              "  'soc_sec_id': '8276847',\n",
              "  'state': 'qld',\n",
              "  'street_number': '8',\n",
              "  'suburb': 'west perth',\n",
              "  'surname': 'struck'},\n",
              " {'address_1': 'kambalda crescent',\n",
              "  'address_2': 'villa 427',\n",
              "  'age': '27',\n",
              "  'date_of_birth': '01/08/26',\n",
              "  'first_name': 'lachlan',\n",
              "  'phone_number': None,\n",
              "  'postcode': '5109',\n",
              "  'soc_sec_id': '9937958',\n",
              "  'state': None,\n",
              "  'street_number': '36',\n",
              "  'suburb': 'auburn',\n",
              "  'surname': 'eglinton'}]"
            ]
          },
          "metadata": {},
          "execution_count": 8
        }
      ]
    },
    {
      "cell_type": "markdown",
      "metadata": {
        "id": "xeHro87QFsSi"
      },
      "source": [
        "## Prepare Training"
      ]
    },
    {
      "cell_type": "markdown",
      "metadata": {
        "id": "2zYio39QFsSj"
      },
      "source": [
        "When we linked our data via SimSum and supervised learning, we defined our blockers and comparators manually with `recordlinkage`. The `dedupe` library takes an active learning approach to blocking and classification and will use our feedback gathered during the labeling session to learn blocking rules and train a classifier. \n",
        "\n",
        "To prepare our `dedupe.RecordLink` object for training, first we'll define the fields that we think `dedupe` should pay attention to when matching records - these definitions will serve as the comparators. The `field` contains the name of the attribute to use for comparison, and the `type` defines the comparison type."
      ]
    },
    {
      "cell_type": "code",
      "metadata": {
        "id": "eoXbG0j8FsSj",
        "colab": {
          "base_uri": "https://localhost:8080/"
        },
        "outputId": "5ce1283b-2881-4607-bc36-18c228e54c09"
      },
      "source": [
        "%%time\n",
        "\n",
        "fields = [\n",
        "    { \"field\" : \"first_name\", \"type\" : \"Name\" },\n",
        "    { \"field\" : \"surname\", \"type\" : \"Name\" },\n",
        "    { \"field\" : \"address_1\", \"type\" : \"ShortString\" },\n",
        "    { \"field\" : \"address_2\", \"type\" : \"ShortString\" },\n",
        "    { \"field\" : \"suburb\", \"type\" : \"ShortString\" },\n",
        "    { \"field\" : \"postcode\", \"type\" : \"Exact\" },\n",
        "    { \"field\" : \"state\", \"type\" : \"Exact\" },\n",
        "    { \"field\" : \"date_of_birth\", \"type\" : \"DateTime\" },\n",
        "    { \"field\" : \"soc_sec_id\", \"type\" : \"Exact\" },\n",
        "]\n",
        "\n",
        "linker = dedupe.RecordLink(fields)\n",
        "linker.prepare_training(records_A, records_B)"
      ],
      "execution_count": null,
      "outputs": [
        {
          "output_type": "stream",
          "name": "stderr",
          "text": [
            "INFO:dedupe.canopy_index:Removing stop word re\n",
            "INFO:dedupe.training:Final predicate set:\n",
            "INFO:dedupe.training:SimplePredicate: (dayPredicate, date_of_birth)\n"
          ]
        },
        {
          "output_type": "stream",
          "name": "stdout",
          "text": [
            "CPU times: user 52.7 s, sys: 1.18 s, total: 53.8 s\n",
            "Wall time: 53.1 s\n"
          ]
        }
      ]
    },
    {
      "cell_type": "markdown",
      "metadata": {
        "id": "ssN3pFsPFsSj"
      },
      "source": [
        "## Active Learning Labeling Session!"
      ]
    },
    {
      "cell_type": "markdown",
      "metadata": {
        "id": "COxkhctaFsSk"
      },
      "source": [
        "At this point, we're ready to provide feedback to `dedupe` via an active learning labeling session. For this, `dedupe` supplies a convenience method to iterate through pairs it is uncertain about. As you provide feedback for each pair, dedupe learns blocking rules and recalculates its linking model weights.\n",
        "\n",
        "You can use `y` (yes, match), `n` (no, not match), and `u` (unsure) to provide feedback on candidate links. When you're ready to exit the labeling session, use `f`."
      ]
    },
    {
      "cell_type": "code",
      "metadata": {
        "id": "C-4DirTeFsSk",
        "colab": {
          "base_uri": "https://localhost:8080/"
        },
        "outputId": "84159088-5def-4574-d0ed-dcb0e2b8b758"
      },
      "source": [
        "ydedupe.console_label(linker)"
      ],
      "execution_count": null,
      "outputs": [
        {
          "output_type": "stream",
          "name": "stderr",
          "text": [
            "first_name : dylan\n",
            "surname : paine\n",
            "address_1 : macalister crescent\n",
            "address_2 : westmead accom\n",
            "suburb : None\n",
            "postcode : 2148\n",
            "state : sa\n",
            "date_of_birth : None\n",
            "soc_sec_id : 2677567\n",
            "\n",
            "first_name : dylan\n",
            "surname : dixon\n",
            "address_1 : None\n",
            "address_2 : None\n",
            "suburb : sippy vswns\n",
            "postcode : 4161\n",
            "state : qld\n",
            "date_of_birth : 08/30/10\n",
            "soc_sec_id : 7931074\n",
            "\n",
            "0/10 positive, 0/10 negative\n",
            "Do these records refer to the same thing?\n",
            "(y)es / (n)o / (u)nsure / (f)inished\n"
          ]
        },
        {
          "name": "stdout",
          "output_type": "stream",
          "text": [
            "yes\n"
          ]
        },
        {
          "output_type": "stream",
          "name": "stderr",
          "text": [
            "(y)es / (n)o / (u)nsure / (f)inished\n"
          ]
        },
        {
          "name": "stdout",
          "output_type": "stream",
          "text": [
            "y\n"
          ]
        },
        {
          "output_type": "stream",
          "name": "stderr",
          "text": [
            "first_name : michaela\n",
            "surname : wheatley\n",
            "address_1 : None\n",
            "address_2 : None\n",
            "suburb : granville\n",
            "postcode : 6281\n",
            "state : act\n",
            "date_of_birth : 07/16/27\n",
            "soc_sec_id : 2515374\n",
            "\n",
            "first_name : lauren\n",
            "surname : dixon\n",
            "address_1 : lansell civrcuit\n",
            "address_2 : None\n",
            "suburb : None\n",
            "postcode : 3212\n",
            "state : nss\n",
            "date_of_birth : None\n",
            "soc_sec_id : 5803741\n",
            "\n",
            "1/10 positive, 0/10 negative\n",
            "Do these records refer to the same thing?\n",
            "(y)es / (n)o / (u)nsure / (f)inished / (p)revious\n"
          ]
        },
        {
          "name": "stdout",
          "output_type": "stream",
          "text": [
            "y\n"
          ]
        },
        {
          "output_type": "stream",
          "name": "stderr",
          "text": [
            "INFO:dedupe.training:Final predicate set:\n",
            "INFO:dedupe.training:SimplePredicate: (suffixArray, first_name)\n",
            "first_name : alana\n",
            "surname : boyle\n",
            "address_1 : monaro crescent\n",
            "address_2 : None\n",
            "suburb : deniliquin\n",
            "postcode : 3216\n",
            "state : sa\n",
            "date_of_birth : 09/17/24\n",
            "soc_sec_id : 2811388\n",
            "\n",
            "first_name : sophie\n",
            "surname : fergas\n",
            "address_1 : monaro crescent\n",
            "address_2 : None\n",
            "suburb : None\n",
            "postcode : 2259\n",
            "state : wa\n",
            "date_of_birth : None\n",
            "soc_sec_id : 1623683\n",
            "\n",
            "2/10 positive, 0/10 negative\n",
            "Do these records refer to the same thing?\n",
            "(y)es / (n)o / (u)nsure / (f)inished / (p)revious\n"
          ]
        },
        {
          "name": "stdout",
          "output_type": "stream",
          "text": [
            "y\n"
          ]
        },
        {
          "output_type": "stream",
          "name": "stderr",
          "text": [
            "INFO:dedupe.training:Final predicate set:\n",
            "INFO:dedupe.training:SimplePredicate: (dayPredicate, date_of_birth)\n",
            "INFO:dedupe.training:PartialIndexLevenshteinSearchPredicate: (1, first_name, Surname)\n",
            "first_name : riley\n",
            "surname : mccarthy\n",
            "address_1 : howitt street\n",
            "address_2 : None\n",
            "suburb : macquarie fields\n",
            "postcode : 2070\n",
            "state : sa\n",
            "date_of_birth : 11/20/86\n",
            "soc_sec_id : 3084435\n",
            "\n",
            "first_name : sophie\n",
            "surname : campbell\n",
            "address_1 : howitt street\n",
            "address_2 : None\n",
            "suburb : None\n",
            "postcode : 3789\n",
            "state : vic\n",
            "date_of_birth : None\n",
            "soc_sec_id : 7764578\n",
            "\n",
            "3/10 positive, 0/10 negative\n",
            "Do these records refer to the same thing?\n",
            "(y)es / (n)o / (u)nsure / (f)inished / (p)revious\n"
          ]
        },
        {
          "name": "stdout",
          "output_type": "stream",
          "text": [
            "y\n"
          ]
        },
        {
          "output_type": "stream",
          "name": "stderr",
          "text": [
            "first_name : andrew\n",
            "surname : gibbett\n",
            "address_1 : macalister crescent\n",
            "address_2 : harpers bridge\n",
            "suburb : drouin east\n",
            "postcode : 2866\n",
            "state : vic\n",
            "date_of_birth : 09/07/50\n",
            "soc_sec_id : 4101336\n",
            "\n",
            "first_name : dillon\n",
            "surname : paino\n",
            "address_1 : macalister crescent\n",
            "address_2 : None\n",
            "suburb : None\n",
            "postcode : 2148\n",
            "state : sa\n",
            "date_of_birth : None\n",
            "soc_sec_id : 2677567\n",
            "\n",
            "4/10 positive, 0/10 negative\n",
            "Do these records refer to the same thing?\n",
            "(y)es / (n)o / (u)nsure / (f)inished / (p)revious\n"
          ]
        },
        {
          "name": "stdout",
          "output_type": "stream",
          "text": [
            "y\n"
          ]
        },
        {
          "output_type": "stream",
          "name": "stderr",
          "text": [
            "INFO:dedupe.training:Final predicate set:\n",
            "INFO:dedupe.training:SimplePredicate: (firstTwoTokensPredicate, address_1)\n",
            "INFO:dedupe.training:PartialIndexLevenshteinSearchPredicate: (1, first_name, Surname)\n",
            "first_name : elysse\n",
            "surname : royle\n",
            "address_1 : gamor street\n",
            "address_2 : None\n",
            "suburb : lower templestowe\n",
            "postcode : 5251\n",
            "state : qld\n",
            "date_of_birth : 05/30/48\n",
            "soc_sec_id : 3986562\n",
            "\n",
            "first_name : lewis\n",
            "surname : mcgregor\n",
            "address_1 : None\n",
            "address_2 : rajamape\n",
            "suburb : lower templestowe\n",
            "postcode : 7320\n",
            "state : nsw\n",
            "date_of_birth : None\n",
            "soc_sec_id : 3174574\n",
            "\n",
            "5/10 positive, 0/10 negative\n",
            "Do these records refer to the same thing?\n",
            "(y)es / (n)o / (u)nsure / (f)inished / (p)revious\n"
          ]
        },
        {
          "name": "stdout",
          "output_type": "stream",
          "text": [
            "y\n"
          ]
        },
        {
          "output_type": "stream",
          "name": "stderr",
          "text": [
            "first_name : sophie\n",
            "surname : campbell\n",
            "address_1 : howitt street\n",
            "address_2 : None\n",
            "suburb : None\n",
            "postcode : 3799\n",
            "state : vic\n",
            "date_of_birth : 09/20/19\n",
            "soc_sec_id : 7746745\n",
            "\n",
            "first_name : evab\n",
            "surname : shephcrd\n",
            "address_1 : gelane street\n",
            "address_2 : dspq\n",
            "suburb : robina\n",
            "postcode : 4860\n",
            "state : qld\n",
            "date_of_birth : None\n",
            "soc_sec_id : 9845540\n",
            "\n",
            "6/10 positive, 0/10 negative\n",
            "Do these records refer to the same thing?\n",
            "(y)es / (n)o / (u)nsure / (f)inished / (p)revious\n"
          ]
        },
        {
          "name": "stdout",
          "output_type": "stream",
          "text": [
            "y\n"
          ]
        },
        {
          "output_type": "stream",
          "name": "stderr",
          "text": [
            "INFO:dedupe.training:Final predicate set:\n",
            "INFO:dedupe.training:SimplePredicate: (firstTwoTokensPredicate, address_1)\n",
            "INFO:dedupe.training:PartialIndexLevenshteinSearchPredicate: (1, first_name, Surname)\n",
            "INFO:dedupe.training:SimplePredicate: (firstTwoTokensPredicate, suburb)\n",
            "first_name : isabella\n",
            "surname : hoang\n",
            "address_1 : salsola street\n",
            "address_2 : melima\n",
            "suburb : ellalong\n",
            "postcode : 2564\n",
            "state : nsw\n",
            "date_of_birth : None\n",
            "soc_sec_id : 2131318\n",
            "\n",
            "first_name : charles\n",
            "surname : kahlon\n",
            "address_1 : abbott street\n",
            "address_2 : None\n",
            "suburb : ellalong\n",
            "postcode : 3222\n",
            "state : nsw\n",
            "date_of_birth : None\n",
            "soc_sec_id : 3912353\n",
            "\n",
            "7/10 positive, 0/10 negative\n",
            "Do these records refer to the same thing?\n",
            "(y)es / (n)o / (u)nsure / (f)inished / (p)revious\n"
          ]
        },
        {
          "name": "stdout",
          "output_type": "stream",
          "text": [
            "y\n"
          ]
        },
        {
          "output_type": "stream",
          "name": "stderr",
          "text": [
            "INFO:dedupe.training:Final predicate set:\n",
            "INFO:dedupe.training:SimplePredicate: (commonSixGram, address_1)\n",
            "INFO:dedupe.training:PartialIndexLevenshteinSearchPredicate: (1, first_name, Surname)\n",
            "INFO:dedupe.training:SimplePredicate: (firstTwoTokensPredicate, suburb)\n",
            "first_name : zara\n",
            "surname : spark\n",
            "address_1 : nanson place\n",
            "address_2 : sp 11650016\n",
            "suburb : willow grove\n",
            "postcode : 4740\n",
            "state : vic\n",
            "date_of_birth : 02/06/92\n",
            "soc_sec_id : 8386154\n",
            "\n",
            "first_name : lauren\n",
            "surname : dixon\n",
            "address_1 : lansell civrcuit\n",
            "address_2 : None\n",
            "suburb : None\n",
            "postcode : 3212\n",
            "state : nss\n",
            "date_of_birth : None\n",
            "soc_sec_id : 5803741\n",
            "\n",
            "8/10 positive, 0/10 negative\n",
            "Do these records refer to the same thing?\n",
            "(y)es / (n)o / (u)nsure / (f)inished / (p)revious\n"
          ]
        },
        {
          "name": "stdout",
          "output_type": "stream",
          "text": [
            "y\n"
          ]
        },
        {
          "output_type": "stream",
          "name": "stderr",
          "text": [
            "first_name : tuscany\n",
            "surname : careless\n",
            "address_1 : canopus crescent\n",
            "address_2 : None\n",
            "suburb : morwell\n",
            "postcode : 6105\n",
            "state : sa\n",
            "date_of_birth : 01/09/29\n",
            "soc_sec_id : 8326973\n",
            "\n",
            "first_name : zachary\n",
            "surname : belavckc\n",
            "address_1 : crick pmace\n",
            "address_2 : None\n",
            "suburb : None\n",
            "postcode : 3630\n",
            "state : nsw\n",
            "date_of_birth : None\n",
            "soc_sec_id : 3065989\n",
            "\n",
            "9/10 positive, 0/10 negative\n",
            "Do these records refer to the same thing?\n",
            "(y)es / (n)o / (u)nsure / (f)inished / (p)revious\n"
          ]
        },
        {
          "name": "stdout",
          "output_type": "stream",
          "text": [
            "y\n"
          ]
        },
        {
          "output_type": "stream",
          "name": "stderr",
          "text": [
            "INFO:dedupe.training:Final predicate set:\n",
            "INFO:dedupe.training:TfidfNGramSearchPredicate: (0.2, address_1)\n",
            "INFO:dedupe.training:PartialIndexLevenshteinSearchPredicate: (1, first_name, Surname)\n",
            "INFO:dedupe.training:SimplePredicate: (firstTwoTokensPredicate, suburb)\n",
            "first_name : esme\n",
            "surname : elbanna\n",
            "address_1 : battersby circuit\n",
            "address_2 : None\n",
            "suburb : frankston\n",
            "postcode : 3227\n",
            "state : nsw\n",
            "date_of_birth : 02/11/05\n",
            "soc_sec_id : 8999714\n",
            "\n",
            "first_name : cooper\n",
            "surname : maelszka\n",
            "address_1 : manity court\n",
            "address_2 : None\n",
            "suburb : frankston\n",
            "postcode : 2197\n",
            "state : nsw\n",
            "date_of_birth : None\n",
            "soc_sec_id : 2462806\n",
            "\n",
            "10/10 positive, 0/10 negative\n",
            "Do these records refer to the same thing?\n",
            "(y)es / (n)o / (u)nsure / (f)inished / (p)revious\n"
          ]
        },
        {
          "name": "stdout",
          "output_type": "stream",
          "text": [
            "y\n"
          ]
        },
        {
          "output_type": "stream",
          "name": "stderr",
          "text": [
            "INFO:dedupe.training:Final predicate set:\n",
            "INFO:dedupe.training:PartialIndexLevenshteinSearchPredicate: (3, surname, CorporationName)\n",
            "first_name : matthew\n",
            "surname : white\n",
            "address_1 : None\n",
            "address_2 : mungo park\n",
            "suburb : hopetoun\n",
            "postcode : 6110\n",
            "state : vic\n",
            "date_of_birth : 09/26/33\n",
            "soc_sec_id : 7343175\n",
            "\n",
            "first_name : matthew\n",
            "surname : wighfe\n",
            "address_1 : None\n",
            "address_2 : mungo park\n",
            "suburb : hopetoun\n",
            "postcode : 6110\n",
            "state : vic\n",
            "date_of_birth : None\n",
            "soc_sec_id : 7343175\n",
            "\n",
            "11/10 positive, 0/10 negative\n",
            "Do these records refer to the same thing?\n",
            "(y)es / (n)o / (u)nsure / (f)inished / (p)revious\n"
          ]
        },
        {
          "name": "stdout",
          "output_type": "stream",
          "text": [
            "y\n"
          ]
        },
        {
          "output_type": "stream",
          "name": "stderr",
          "text": [
            "first_name : talia\n",
            "surname : de paoli\n",
            "address_1 : verco street\n",
            "address_2 : None\n",
            "suburb : ngunnawal\n",
            "postcode : 4740\n",
            "state : nsw\n",
            "date_of_birth : 01/29/92\n",
            "soc_sec_id : 5078964\n",
            "\n",
            "first_name : de paoli\n",
            "surname : talua\n",
            "address_1 : verco street\n",
            "address_2 : None\n",
            "suburb : ngunnawal\n",
            "postcode : 4740\n",
            "state : nsw\n",
            "date_of_birth : 01/29/92\n",
            "soc_sec_id : 5078964\n",
            "\n",
            "12/10 positive, 0/10 negative\n",
            "Do these records refer to the same thing?\n",
            "(y)es / (n)o / (u)nsure / (f)inished / (p)revious\n"
          ]
        },
        {
          "name": "stdout",
          "output_type": "stream",
          "text": [
            "y\n"
          ]
        },
        {
          "output_type": "stream",
          "name": "stderr",
          "text": [
            "INFO:dedupe.training:Final predicate set:\n",
            "INFO:dedupe.training:PartialIndexLevenshteinSearchPredicate: (3, surname, CorporationName)\n",
            "INFO:dedupe.training:SimplePredicate: (firstTwoTokensPredicate, address_2)\n",
            "first_name : william\n",
            "surname : mislov\n",
            "address_1 : champ place\n",
            "address_2 : None\n",
            "suburb : corowa\n",
            "postcode : 2913\n",
            "state : vic\n",
            "date_of_birth : 07/22/54\n",
            "soc_sec_id : 6582245\n",
            "\n",
            "first_name : zara\n",
            "surname : humpcys\n",
            "address_1 : None\n",
            "address_2 : southern wood\n",
            "suburb : corowa\n",
            "postcode : 5095\n",
            "state : qld\n",
            "date_of_birth : None\n",
            "soc_sec_id : 7393243\n",
            "\n",
            "13/10 positive, 0/10 negative\n",
            "Do these records refer to the same thing?\n",
            "(y)es / (n)o / (u)nsure / (f)inished / (p)revious\n"
          ]
        },
        {
          "name": "stdout",
          "output_type": "stream",
          "text": [
            "y\n"
          ]
        },
        {
          "output_type": "stream",
          "name": "stderr",
          "text": [
            "INFO:dedupe.training:Final predicate set:\n",
            "INFO:dedupe.training:PartialIndexLevenshteinSearchPredicate: (3, surname, CorporationName)\n",
            "INFO:dedupe.training:SimplePredicate: (wholeFieldPredicate, soc_sec_id)\n",
            "first_name : david\n",
            "surname : sznajder\n",
            "address_1 : None\n",
            "address_2 : bowtells caravn park\n",
            "suburb : eaton\n",
            "postcode : 2298\n",
            "state : vic\n",
            "date_of_birth : 09/15/78\n",
            "soc_sec_id : 8971940\n",
            "\n",
            "first_name : david\n",
            "surname : sznadkr\n",
            "address_1 : None\n",
            "address_2 : bowtells caravn park\n",
            "suburb : eaton\n",
            "postcode : 2298\n",
            "state : vic\n",
            "date_of_birth : 09/15/78\n",
            "soc_sec_id : 6770683\n",
            "\n",
            "14/10 positive, 0/10 negative\n",
            "Do these records refer to the same thing?\n",
            "(y)es / (n)o / (u)nsure / (f)inished / (p)revious\n"
          ]
        },
        {
          "name": "stdout",
          "output_type": "stream",
          "text": [
            "y\n"
          ]
        },
        {
          "output_type": "stream",
          "name": "stderr",
          "text": [
            "INFO:dedupe.training:Final predicate set:\n",
            "INFO:dedupe.training:PartialIndexLevenshteinSearchPredicate: (3, surname, CorporationName)\n",
            "INFO:dedupe.training:SimplePredicate: (wholeFieldPredicate, suburb)\n",
            "first_name : jack\n",
            "surname : jeffries\n",
            "address_1 : foott street\n",
            "address_2 : None\n",
            "suburb : None\n",
            "postcode : 0850\n",
            "state : nsw\n",
            "date_of_birth : 05/28/70\n",
            "soc_sec_id : 9939397\n",
            "\n",
            "first_name : mitchell\n",
            "surname : matthdws\n",
            "address_1 : badgery street\n",
            "address_2 : None\n",
            "suburb : thornbury\n",
            "postcode : 2097\n",
            "state : qhle\n",
            "date_of_birth : None\n",
            "soc_sec_id : 3327718\n",
            "\n",
            "15/10 positive, 0/10 negative\n",
            "Do these records refer to the same thing?\n",
            "(y)es / (n)o / (u)nsure / (f)inished / (p)revious\n"
          ]
        },
        {
          "name": "stdout",
          "output_type": "stream",
          "text": [
            "y\n"
          ]
        },
        {
          "output_type": "stream",
          "name": "stderr",
          "text": [
            "first_name : caitlyn\n",
            "surname : beckwith\n",
            "address_1 : burgan place\n",
            "address_2 : None\n",
            "suburb : greenacre\n",
            "postcode : 3043\n",
            "state : nsw\n",
            "date_of_birth : None\n",
            "soc_sec_id : 1049021\n",
            "\n",
            "first_name : kayla\n",
            "surname : de boar\n",
            "address_1 : burraly court\n",
            "address_2 : northbridge marina\n",
            "suburb : None\n",
            "postcode : 6020\n",
            "state : wa\n",
            "date_of_birth : 02/08/93\n",
            "soc_sec_id : 9459451\n",
            "\n",
            "16/10 positive, 0/10 negative\n",
            "Do these records refer to the same thing?\n",
            "(y)es / (n)o / (u)nsure / (f)inished / (p)revious\n"
          ]
        },
        {
          "name": "stdout",
          "output_type": "stream",
          "text": [
            "y\n"
          ]
        },
        {
          "output_type": "stream",
          "name": "stderr",
          "text": [
            "INFO:dedupe.training:Final predicate set:\n",
            "INFO:dedupe.training:PartialIndexLevenshteinSearchPredicate: (2, first_name, CorporationName)\n",
            "first_name : bailey\n",
            "surname : matthews\n",
            "address_1 : spafford crescent\n",
            "address_2 : None\n",
            "suburb : moree\n",
            "postcode : 3141\n",
            "state : nt\n",
            "date_of_birth : 07/11/26\n",
            "soc_sec_id : 7466221\n",
            "\n",
            "first_name : matthdws\n",
            "surname : baldy\n",
            "address_1 : spafford crescent\n",
            "address_2 : None\n",
            "suburb : moree\n",
            "postcode : 3141\n",
            "state : nt\n",
            "date_of_birth : 07/11/26\n",
            "soc_sec_id : 7466221\n",
            "\n",
            "17/10 positive, 0/10 negative\n",
            "Do these records refer to the same thing?\n",
            "(y)es / (n)o / (u)nsure / (f)inished / (p)revious\n"
          ]
        },
        {
          "name": "stdout",
          "output_type": "stream",
          "text": [
            "\n"
          ]
        },
        {
          "output_type": "stream",
          "name": "stderr",
          "text": [
            "(y)es / (n)o / (u)nsure / (f)inished / (p)revious\n"
          ]
        },
        {
          "name": "stdout",
          "output_type": "stream",
          "text": [
            "f\n"
          ]
        },
        {
          "output_type": "stream",
          "name": "stderr",
          "text": [
            "Finished labeling\n"
          ]
        }
      ]
    },
    {
      "cell_type": "markdown",
      "metadata": {
        "id": "-bIp-4EqFsSk"
      },
      "source": [
        "We can now train our linker, based on the labeling session feedback."
      ]
    },
    {
      "cell_type": "code",
      "metadata": {
        "id": "44zkPcAGFsSk",
        "colab": {
          "base_uri": "https://localhost:8080/"
        },
        "outputId": "79c4aa41-a581-4ded-903f-49be017648fa"
      },
      "source": [
        "%%time\n",
        "linker.train()"
      ],
      "execution_count": null,
      "outputs": [
        {
          "output_type": "stream",
          "name": "stderr",
          "text": [
            "INFO:rlr.crossvalidation:using cross validation to find optimum alpha...\n",
            "INFO:rlr.crossvalidation:optimum alpha: 0.000010, score 0.0\n",
            "INFO:dedupe.training:Final predicate set:\n"
          ]
        },
        {
          "output_type": "stream",
          "name": "stdout",
          "text": [
            "CPU times: user 4.29 s, sys: 405 ms, total: 4.69 s\n",
            "Wall time: 4.32 s\n"
          ]
        }
      ]
    }
  ]
}